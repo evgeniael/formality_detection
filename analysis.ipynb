{
 "cells": [
  {
   "cell_type": "code",
   "execution_count": 70,
   "metadata": {},
   "outputs": [],
   "source": [
    "data = pd.read_csv(\"/home/eilia/jetbrains/data/email\", delimiter = \"\\t\", header=None, names=[\"avg_formal\", \"votes_formal\", \"id\", \"text\"])"
   ]
  },
  {
   "cell_type": "code",
   "execution_count": 71,
   "metadata": {},
   "outputs": [
    {
     "data": {
      "text/html": [
       "<div>\n",
       "<style scoped>\n",
       "    .dataframe tbody tr th:only-of-type {\n",
       "        vertical-align: middle;\n",
       "    }\n",
       "\n",
       "    .dataframe tbody tr th {\n",
       "        vertical-align: top;\n",
       "    }\n",
       "\n",
       "    .dataframe thead th {\n",
       "        text-align: right;\n",
       "    }\n",
       "</style>\n",
       "<table border=\"1\" class=\"dataframe\">\n",
       "  <thead>\n",
       "    <tr style=\"text-align: right;\">\n",
       "      <th></th>\n",
       "      <th>avg_formal</th>\n",
       "      <th>votes_formal</th>\n",
       "      <th>id</th>\n",
       "      <th>text</th>\n",
       "    </tr>\n",
       "  </thead>\n",
       "  <tbody>\n",
       "    <tr>\n",
       "      <th>0</th>\n",
       "      <td>-1.25</td>\n",
       "      <td>-2.0,-1.0,-1.0,-1.0</td>\n",
       "      <td>JebBush_45511.1</td>\n",
       "      <td>We tried to run a similar piece , which appare...</td>\n",
       "    </tr>\n",
       "    <tr>\n",
       "      <th>1</th>\n",
       "      <td>-0.80</td>\n",
       "      <td>-3.0,-1.0,-1.0,0.0,1.0</td>\n",
       "      <td>JebBush_86269.0</td>\n",
       "      <td>It worries and upsets me that this bill has be...</td>\n",
       "    </tr>\n",
       "    <tr>\n",
       "      <th>2</th>\n",
       "      <td>1.20</td>\n",
       "      <td>-1.0,1.0,1.0,2.0,3.0</td>\n",
       "      <td>JebBush_42595.0</td>\n",
       "      <td>I know you realize the importance of this appo...</td>\n",
       "    </tr>\n",
       "    <tr>\n",
       "      <th>3</th>\n",
       "      <td>0.75</td>\n",
       "      <td>-1.0,1.0,1.0,2.0</td>\n",
       "      <td>JebBush_110653.0</td>\n",
       "      <td>Dear Jeb , I wrote to you previously to recomm...</td>\n",
       "    </tr>\n",
       "    <tr>\n",
       "      <th>4</th>\n",
       "      <td>1.20</td>\n",
       "      <td>-2.0,1.0,2.0,2.0,3.0</td>\n",
       "      <td>JebBush_127867.0</td>\n",
       "      <td>A new documentary -- Waco : The Rules of Engag...</td>\n",
       "    </tr>\n",
       "    <tr>\n",
       "      <th>...</th>\n",
       "      <td>...</td>\n",
       "      <td>...</td>\n",
       "      <td>...</td>\n",
       "      <td>...</td>\n",
       "    </tr>\n",
       "    <tr>\n",
       "      <th>1603</th>\n",
       "      <td>-2.60</td>\n",
       "      <td>-3.0,-3.0,-3.0,-2.0,-2.0</td>\n",
       "      <td>JebBush_104133.1</td>\n",
       "      <td>Free software , free e - mail , and free Inter...</td>\n",
       "    </tr>\n",
       "    <tr>\n",
       "      <th>1604</th>\n",
       "      <td>-0.60</td>\n",
       "      <td>-2.0,-2.0,-1.0,1.0,1.0</td>\n",
       "      <td>JebBush_67785.2</td>\n",
       "      <td>It was a great experience .</td>\n",
       "    </tr>\n",
       "    <tr>\n",
       "      <th>1605</th>\n",
       "      <td>1.00</td>\n",
       "      <td>-2.0,1.0,1.0,2.0,3.0</td>\n",
       "      <td>JebBush_86326.0</td>\n",
       "      <td>Thank you for the kind words about Cecilia .</td>\n",
       "    </tr>\n",
       "    <tr>\n",
       "      <th>1606</th>\n",
       "      <td>0.60</td>\n",
       "      <td>-1.0,0.0,0.0,2.0,2.0</td>\n",
       "      <td>JebBush_121499.0</td>\n",
       "      <td>Thank you for giving people a \" choice \" to pu...</td>\n",
       "    </tr>\n",
       "    <tr>\n",
       "      <th>1607</th>\n",
       "      <td>1.60</td>\n",
       "      <td>1.0,1.0,2.0,2.0,2.0</td>\n",
       "      <td>JebBush_59759.0</td>\n",
       "      <td>I have recently been made aware that there is ...</td>\n",
       "    </tr>\n",
       "  </tbody>\n",
       "</table>\n",
       "<p>1608 rows × 4 columns</p>\n",
       "</div>"
      ],
      "text/plain": [
       "      avg_formal              votes_formal                id  \\\n",
       "0          -1.25       -2.0,-1.0,-1.0,-1.0   JebBush_45511.1   \n",
       "1          -0.80    -3.0,-1.0,-1.0,0.0,1.0   JebBush_86269.0   \n",
       "2           1.20      -1.0,1.0,1.0,2.0,3.0   JebBush_42595.0   \n",
       "3           0.75          -1.0,1.0,1.0,2.0  JebBush_110653.0   \n",
       "4           1.20      -2.0,1.0,2.0,2.0,3.0  JebBush_127867.0   \n",
       "...          ...                       ...               ...   \n",
       "1603       -2.60  -3.0,-3.0,-3.0,-2.0,-2.0  JebBush_104133.1   \n",
       "1604       -0.60    -2.0,-2.0,-1.0,1.0,1.0   JebBush_67785.2   \n",
       "1605        1.00      -2.0,1.0,1.0,2.0,3.0   JebBush_86326.0   \n",
       "1606        0.60      -1.0,0.0,0.0,2.0,2.0  JebBush_121499.0   \n",
       "1607        1.60       1.0,1.0,2.0,2.0,2.0   JebBush_59759.0   \n",
       "\n",
       "                                                   text  \n",
       "0     We tried to run a similar piece , which appare...  \n",
       "1     It worries and upsets me that this bill has be...  \n",
       "2     I know you realize the importance of this appo...  \n",
       "3     Dear Jeb , I wrote to you previously to recomm...  \n",
       "4     A new documentary -- Waco : The Rules of Engag...  \n",
       "...                                                 ...  \n",
       "1603  Free software , free e - mail , and free Inter...  \n",
       "1604                        It was a great experience .  \n",
       "1605       Thank you for the kind words about Cecilia .  \n",
       "1606  Thank you for giving people a \" choice \" to pu...  \n",
       "1607  I have recently been made aware that there is ...  \n",
       "\n",
       "[1608 rows x 4 columns]"
      ]
     },
     "execution_count": 71,
     "metadata": {},
     "output_type": "execute_result"
    }
   ],
   "source": [
    "data"
   ]
  },
  {
   "cell_type": "code",
   "execution_count": 72,
   "metadata": {},
   "outputs": [],
   "source": [
    "data = data.dropna()"
   ]
  },
  {
   "cell_type": "code",
   "execution_count": 74,
   "metadata": {},
   "outputs": [
    {
     "name": "stderr",
     "output_type": "stream",
     "text": [
      "/scratch-local/eilia.10807663/ipykernel_1206541/3126813839.py:1: SettingWithCopyWarning: \n",
      "A value is trying to be set on a copy of a slice from a DataFrame.\n",
      "Try using .loc[row_indexer,col_indexer] = value instead\n",
      "\n",
      "See the caveats in the documentation: https://pandas.pydata.org/pandas-docs/stable/user_guide/indexing.html#returning-a-view-versus-a-copy\n",
      "  data[\"avg_formal\"] = data[\"avg_formal\"].astype(float)\n"
     ]
    }
   ],
   "source": [
    "data[\"avg_formal\"] = data[\"avg_formal\"].astype(float)"
   ]
  },
  {
   "cell_type": "code",
   "execution_count": 75,
   "metadata": {},
   "outputs": [
    {
     "name": "stderr",
     "output_type": "stream",
     "text": [
      "/scratch-local/eilia.10807663/ipykernel_1206541/3765254539.py:1: SettingWithCopyWarning: \n",
      "A value is trying to be set on a copy of a slice from a DataFrame.\n",
      "Try using .loc[row_indexer,col_indexer] = value instead\n",
      "\n",
      "See the caveats in the documentation: https://pandas.pydata.org/pandas-docs/stable/user_guide/indexing.html#returning-a-view-versus-a-copy\n",
      "  data[\"votes_formal\"] = data[\"votes_formal\"].str.split(',')\n"
     ]
    }
   ],
   "source": [
    "data[\"votes_formal\"] = data[\"votes_formal\"].str.split(',')"
   ]
  },
  {
   "cell_type": "code",
   "execution_count": 76,
   "metadata": {},
   "outputs": [],
   "source": [
    "def get_int_list(l):\n",
    "    # return [ast.literal_eval(x) for x in l]\n",
    "    return [float(x) for x in l]\n"
   ]
  },
  {
   "cell_type": "code",
   "execution_count": 77,
   "metadata": {},
   "outputs": [
    {
     "name": "stderr",
     "output_type": "stream",
     "text": [
      "/scratch-local/eilia.10807663/ipykernel_1206541/1456169003.py:1: SettingWithCopyWarning: \n",
      "A value is trying to be set on a copy of a slice from a DataFrame.\n",
      "Try using .loc[row_indexer,col_indexer] = value instead\n",
      "\n",
      "See the caveats in the documentation: https://pandas.pydata.org/pandas-docs/stable/user_guide/indexing.html#returning-a-view-versus-a-copy\n",
      "  data[\"votes_formal\"] = data[\"votes_formal\"].apply(get_int_list)\n"
     ]
    }
   ],
   "source": [
    "data[\"votes_formal\"] = data[\"votes_formal\"].apply(get_int_list)"
   ]
  },
  {
   "cell_type": "code",
   "execution_count": 78,
   "metadata": {},
   "outputs": [
    {
     "data": {
      "text/plain": [
       "'JebBush_79654.1'"
      ]
     },
     "execution_count": 78,
     "metadata": {},
     "output_type": "execute_result"
    }
   ],
   "source": [
    "data.iloc[5][\"id\"]"
   ]
  },
  {
   "cell_type": "code",
   "execution_count": 79,
   "metadata": {},
   "outputs": [
    {
     "data": {
      "text/plain": [
       "'It was very gracious of your office .'"
      ]
     },
     "execution_count": 79,
     "metadata": {},
     "output_type": "execute_result"
    }
   ],
   "source": [
    "data.iloc[5][\"text\"]"
   ]
  },
  {
   "cell_type": "code",
   "execution_count": 80,
   "metadata": {},
   "outputs": [
    {
     "data": {
      "text/plain": [
       "1.2"
      ]
     },
     "execution_count": 80,
     "metadata": {},
     "output_type": "execute_result"
    }
   ],
   "source": [
    "data.iloc[5][\"avg_formal\"]"
   ]
  },
  {
   "cell_type": "code",
   "execution_count": 81,
   "metadata": {},
   "outputs": [
    {
     "data": {
      "text/plain": [
       "[-3.0, 1.0, 2.0, 3.0, 3.0]"
      ]
     },
     "execution_count": 81,
     "metadata": {},
     "output_type": "execute_result"
    }
   ],
   "source": [
    "data.iloc[5][\"votes_formal\"]"
   ]
  },
  {
   "cell_type": "markdown",
   "metadata": {},
   "source": [
    "### Analysis of results"
   ]
  },
  {
   "cell_type": "code",
   "execution_count": 42,
   "metadata": {},
   "outputs": [],
   "source": [
    "import json\n",
    "import statistics\n",
    "import matplotlib.pyplot as plt"
   ]
  },
  {
   "cell_type": "code",
   "execution_count": 63,
   "metadata": {},
   "outputs": [],
   "source": [
    "with open('/home/eilia/jetbrains/outputs/evaluation/answers-500-mistral-12b-avg_sign-evaluation.json') as f:\n",
    "    d = json.load(f)"
   ]
  },
  {
   "cell_type": "code",
   "execution_count": 64,
   "metadata": {},
   "outputs": [
    {
     "data": {
      "text/plain": [
       "{'dataset': 'answers',\n",
       " 'model': 'mistral-12b',\n",
       " 'prompt': 'instruction_prompt',\n",
       " 'num_datapoints': 500,\n",
       " 'gold_label_transform': 'avg_sign',\n",
       " 'classification_performance_metrics': {'f1': 0.5794066317626527,\n",
       "  'precision': 0.4129353233830846,\n",
       "  'recall': 0.9707602339181286,\n",
       "  'accuracy': 0.518}}"
      ]
     },
     "execution_count": 64,
     "metadata": {},
     "output_type": "execute_result"
    }
   ],
   "source": [
    "d['metadata']"
   ]
  },
  {
   "cell_type": "markdown",
   "metadata": {},
   "source": [
    "When do misclassifications occur?"
   ]
  },
  {
   "cell_type": "code",
   "execution_count": 65,
   "metadata": {},
   "outputs": [],
   "source": [
    "stdevs_incorr_class = [statistics.stdev(item['votes_formal']) for item in d['data'] if (item['prediction'] != item['binary_label']) and (len(item['votes_formal'])>1)]\n",
    "means_incorr_class = [statistics.mean(item['votes_formal']) for item in d['data'] if (item['prediction'] != item['binary_label']) and (len(item['votes_formal'])>1)]\n",
    "\n",
    "stdevs_corr_class = [statistics.stdev(item['votes_formal']) for item in d['data'] if (item['prediction'] == item['binary_label']) and (len(item['votes_formal'])>1)]\n",
    "means_corr_class = [statistics.mean(item['votes_formal']) for item in d['data'] if (item['prediction'] == item['binary_label']) and (len(item['votes_formal'])>1)]\n"
   ]
  },
  {
   "cell_type": "code",
   "execution_count": 67,
   "metadata": {},
   "outputs": [
    {
     "data": {
      "image/png": "[encoded data removed]",
      "text/plain": [
       "<Figure size 640x480 with 1 Axes>"
      ]
     },
     "metadata": {},
     "output_type": "display_data"
    }
   ],
   "source": [
    "plt.scatter(means_incorr_class, stdevs_incorr_class, alpha=0.5, color = 'red')\n",
    "plt.scatter(means_corr_class, stdevs_corr_class, alpha=0.5, color='green')\n",
    "\n",
    "plt.xlabel('Mean of formality scores')\n",
    "plt.ylabel('Standard Deviation of formality scores') #high standard deviation - scores were more spread out\n",
    "plt.title('Answers, Mistral-12B')\n",
    "plt.savefig('answers-500-mistral-12b-avg_sign-means_stdevs.pdf')"
   ]
  }
 ],
 "metadata": {
  "kernelspec": {
   "display_name": "Python 3.9.18 ('test_env': venv)",
   "language": "python",
   "name": "python3"
  },
  "language_info": {
   "codemirror_mode": {
    "name": "ipython",
    "version": 3
   },
   "file_extension": ".py",
   "mimetype": "text/x-python",
   "name": "python",
   "nbconvert_exporter": "python",
   "pygments_lexer": "ipython3",
   "version": "3.11.7"
  },
  "vscode": {
   "interpreter": {
    "hash": "ca89bc03512695d807704024a09c0ffcb38782c63a38799c1e681290cc70cabf"
   }
  }
 },
 "nbformat": 4,
 "nbformat_minor": 2
}
